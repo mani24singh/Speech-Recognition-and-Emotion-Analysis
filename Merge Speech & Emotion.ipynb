{
 "cells": [
  {
   "cell_type": "code",
   "execution_count": 1,
   "metadata": {},
   "outputs": [],
   "source": [
    "import speech_recognition as sr"
   ]
  },
  {
   "cell_type": "code",
   "execution_count": 2,
   "metadata": {},
   "outputs": [],
   "source": [
    "def recognize_speech_from_mic(recognizer,microphone):\n",
    "    if not isinstance(recognizer,sr.Recognizer):\n",
    "        raise TypeError(\"'recognizer'must be 'Microphone' instance\")\n",
    "    if not isinstance(microphone, sr.Microphone):\n",
    "        raise TypeError(\"'microphone' must be 'Microphone' instance\")\n",
    "\n",
    "    with microphone as source:\n",
    "        recognizer.adjust_for_ambient_noise(source)\n",
    "        audio = recognizer.listen(source)\n",
    "\n",
    "    response = {\n",
    "        'success' : True,\n",
    "        'error' : None,\n",
    "        'transcription' : None\n",
    "    }\n",
    "\n",
    "    try:\n",
    "        response['transcription'] = recognizer.recognize_google(audio)\n",
    "    except sr.RequestError:\n",
    "        response['sucess'] = False\n",
    "        response['error'] = 'API unavailable/unresponsive'\n",
    "\n",
    "    except sr.UnknownValueError:\n",
    "        response['error'] = 'unable to recognize speech'\n",
    "\n",
    "    return response\n"
   ]
  },
  {
   "cell_type": "code",
   "execution_count": 3,
   "metadata": {},
   "outputs": [],
   "source": [
    "recognizer = sr.Recognizer()"
   ]
  },
  {
   "cell_type": "code",
   "execution_count": 4,
   "metadata": {},
   "outputs": [],
   "source": [
    "mic = sr.Microphone(device_index=1)"
   ]
  },
  {
   "cell_type": "code",
   "execution_count": 7,
   "metadata": {},
   "outputs": [],
   "source": [
    "response = recognize_speech_from_mic(recognizer,mic)"
   ]
  },
  {
   "cell_type": "code",
   "execution_count": 8,
   "metadata": {},
   "outputs": [
    {
     "name": "stdout",
     "output_type": "stream",
     "text": [
      "\n",
      "Success : True\n",
      "Error : None\n",
      "\n",
      "Text from speech\n",
      "-----------------\n",
      "\n",
      "Iron Man\n"
     ]
    }
   ],
   "source": [
    "print('\\nSuccess : {}\\nError : {}\\n\\nText from speech\\n{}\\n\\n{}' \\\n",
    "      .format(response['success'],\n",
    "               response['error'],\n",
    "               '-'*17,\n",
    "               response['transcription']))"
   ]
  },
  {
   "cell_type": "code",
   "execution_count": 9,
   "metadata": {},
   "outputs": [
    {
     "name": "stdout",
     "output_type": "stream",
     "text": [
      "speak it out\n",
      "you said : save\n",
      "speak it out\n",
      "you said : happy\n",
      "speak it out\n",
      "you said : enemy\n",
      "speak it out\n",
      "you said : None\n",
      "speak it out\n",
      "you said : world\n",
      "speak it out\n",
      "you said : Hero\n",
      "speak it out\n",
      "you said : destroy\n",
      "speak it out\n",
      "you said : None\n",
      "speak it out\n",
      "you said : bye\n",
      "thanks for your suggestion\n"
     ]
    }
   ],
   "source": [
    "temp_str = ''\n",
    "records_all = []\n",
    "while (temp_str != 'bye'):\n",
    "    print ('speak it out')\n",
    "    response = recognize_speech_from_mic(recognizer,mic)\n",
    "    if response['success']:\n",
    "        temp_str = response['transcription']\n",
    "        print('you said :', temp_str)\n",
    "        if (temp_str != 'bye'):\n",
    "            records_all.append(temp_str)\n",
    "print('thanks for your suggestion')"
   ]
  },
  {
   "cell_type": "code",
   "execution_count": 14,
   "metadata": {},
   "outputs": [
    {
     "name": "stdout",
     "output_type": "stream",
     "text": [
      "your suggestion on give movies\n",
      "['save', 'happy', 'enemy', 'world', 'Hero', 'destroy']\n"
     ]
    }
   ],
   "source": [
    "print('your suggestion on give movies')\n",
    "print(records_all)\n",
    "records_all.remove(None)"
   ]
  },
  {
   "cell_type": "code",
   "execution_count": 16,
   "metadata": {},
   "outputs": [
    {
     "data": {
      "text/plain": [
       "['save', 'happy', 'enemy', 'world', 'Hero', 'destroy']"
      ]
     },
     "execution_count": 16,
     "metadata": {},
     "output_type": "execute_result"
    }
   ],
   "source": [
    "records_all"
   ]
  },
  {
   "cell_type": "code",
   "execution_count": 17,
   "metadata": {},
   "outputs": [
    {
     "name": "stdout",
     "output_type": "stream",
     "text": [
      "Requirement already satisfied: textblob in c:\\users\\admin\\anaconda3\\lib\\site-packages (0.15.3)\n",
      "Requirement already satisfied: nltk>=3.1 in c:\\users\\admin\\anaconda3\\lib\\site-packages (from textblob) (3.5)\n",
      "Requirement already satisfied: click in c:\\users\\admin\\anaconda3\\lib\\site-packages (from nltk>=3.1->textblob) (7.1.2)\n",
      "Requirement already satisfied: regex in c:\\users\\admin\\anaconda3\\lib\\site-packages (from nltk>=3.1->textblob) (2020.10.15)\n",
      "Requirement already satisfied: joblib in c:\\users\\admin\\anaconda3\\lib\\site-packages (from nltk>=3.1->textblob) (0.17.0)\n",
      "Requirement already satisfied: tqdm in c:\\users\\admin\\anaconda3\\lib\\site-packages (from nltk>=3.1->textblob) (4.50.2)\n"
     ]
    }
   ],
   "source": [
    "!pip install textblob"
   ]
  },
  {
   "cell_type": "code",
   "execution_count": 18,
   "metadata": {},
   "outputs": [],
   "source": [
    "from textblob import TextBlob"
   ]
  },
  {
   "cell_type": "code",
   "execution_count": 19,
   "metadata": {},
   "outputs": [],
   "source": [
    "def get_sentiment(sentx):\n",
    "    \n",
    "    analysis = TextBlob(sentx)\n",
    "    if analysis.sentiment.polarity > 0:\n",
    "        return ('positive')\n",
    "    elif analysis.sentiment.polarity == 0:\n",
    "        return('neutral')\n",
    "    else:\n",
    "        return('negative')\n",
    "sentimets_total = {'neutral' : 0, 'positive' : 0,'negative' : 0}\n"
   ]
  },
  {
   "cell_type": "code",
   "execution_count": 20,
   "metadata": {},
   "outputs": [
    {
     "name": "stdout",
     "output_type": "stream",
     "text": [
      "neutral =========> save\n",
      "#######################################\n",
      "positive =========> happy\n",
      "#######################################\n",
      "neutral =========> enemy\n",
      "#######################################\n",
      "neutral =========> world\n",
      "#######################################\n",
      "neutral =========> Hero\n",
      "#######################################\n",
      "negative =========> destroy\n",
      "#######################################\n"
     ]
    }
   ],
   "source": [
    "for recd_sent in records_all:\n",
    "    sentiment = get_sentiment(recd_sent)\n",
    "    print(sentiment, '=========>', recd_sent)\n",
    "    sentimets_total[sentiment] = sentimets_total[sentiment]+1\n",
    "    print('#######################################')"
   ]
  },
  {
   "cell_type": "code",
   "execution_count": 21,
   "metadata": {},
   "outputs": [
    {
     "name": "stdout",
     "output_type": "stream",
     "text": [
      "{'neutral': 4, 'positive': 1, 'negative': 1}\n"
     ]
    }
   ],
   "source": [
    "print(sentimets_total)"
   ]
  },
  {
   "cell_type": "code",
   "execution_count": 22,
   "metadata": {},
   "outputs": [],
   "source": [
    "from matplotlib import pyplot as plt\n",
    "slices = [sentimets_total['neutral'],sentimets_total['positive'],sentimets_total['negative']]\n",
    "activities = ['neutral', 'positive','negative']\n",
    "cols = ['c','m','r']"
   ]
  },
  {
   "cell_type": "code",
   "execution_count": 23,
   "metadata": {},
   "outputs": [
    {
     "data": {
      "image/png": "[encoded data removed]",
      "text/plain": [
       "<Figure size 432x288 with 1 Axes>"
      ]
     },
     "metadata": {},
     "output_type": "display_data"
    }
   ],
   "source": [
    "plt.pie(slices,labels=activities,colors = cols,shadow = True,autopct = '%1.1f%%')\n",
    "plt.title('sentiment analysis of tweets')\n",
    "plt.legend()\n",
    "plt.show()"
   ]
  }
 ],
 "metadata": {
  "kernelspec": {
   "display_name": "Python 3",
   "language": "python",
   "name": "python3"
  },
  "language_info": {
   "codemirror_mode": {
    "name": "ipython",
    "version": 3
   },
   "file_extension": ".py",
   "mimetype": "text/x-python",
   "name": "python",
   "nbconvert_exporter": "python",
   "pygments_lexer": "ipython3",
   "version": "3.8.5"
  }
 },
 "nbformat": 4,
 "nbformat_minor": 4
}
